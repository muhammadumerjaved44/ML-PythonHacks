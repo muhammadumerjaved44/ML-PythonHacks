{
 "cells": [
  {
   "cell_type": "markdown",
   "metadata": {
    "nbpresent": {
     "id": "c263c809-ecf3-42f3-8dd3-826dd348a7c0"
    }
   },
   "source": [
    "# Auther: Muhammad Umar Javed"
   ]
  },
  {
   "cell_type": "markdown",
   "metadata": {
    "nbpresent": {
     "id": "90b3d3a0-a40a-405a-9a6c-f9394bcb28f0"
    }
   },
   "source": [
    "## Classification of iris DataSet using SVM\n",
    "#### Library required \n",
    "* NumPy: NumPy is a library for the Python programming language, adding support for large, multi-dimensional arrays and matrices, along with a large collection of high-level mathematical functions to operate on these arrays\n",
    "* Pandas: it offers data structures and operations for manipulating numerical tables and time series\n",
    "* SeaBorn: It provides a high-level interface for drawing attractive and informative statistical graphics.\n",
    "* Sklearn: Scikit-learn is a free software machine learning library for the Python programming language. It features various classification, regression and clustering algorithms including support vector machines\n",
    "* matplotlib\n",
    "* mpl_toolkits"
   ]
  },
  {
   "cell_type": "code",
   "execution_count": 20,
   "metadata": {
    "collapsed": true,
    "nbpresent": {
     "id": "5ba93df0-8e09-4e84-83f7-4644cc350cfe"
    }
   },
   "outputs": [],
   "source": [
    "# importing libraies\n",
    "import numpy as np\n",
    "import pandas as pd\n",
    "import seaborn as sns\n",
    "import matplotlib.pyplot as plt\n",
    "from mpl_toolkits.mplot3d import Axes3D\n",
    "# inline ploting for jupternote book otherwise omit it\n",
    "%matplotlib inline"
   ]
  },
  {
   "cell_type": "code",
   "execution_count": 21,
   "metadata": {
    "collapsed": true,
    "nbpresent": {
     "id": "b57543b7-ba6d-416c-9ffe-eaa7e7775efb"
    }
   },
   "outputs": [],
   "source": [
    "# Impoting sklearn for Machin learing task\n",
    "from sklearn import datasets\n",
    "from sklearn.cross_validation import train_test_split"
   ]
  },
  {
   "cell_type": "code",
   "execution_count": 22,
   "metadata": {
    "collapsed": false,
    "nbpresent": {
     "id": "87335704-f15d-4b40-ab1e-79f603905317"
    }
   },
   "outputs": [
    {
     "data": {
      "text/plain": [
       "['target_names', 'data', 'target', 'DESCR', 'feature_names']"
      ]
     },
     "execution_count": 22,
     "metadata": {},
     "output_type": "execute_result"
    }
   ],
   "source": [
    "iris = datasets.load_iris()\n",
    "list(iris)"
   ]
  },
  {
   "cell_type": "markdown",
   "metadata": {
    "nbpresent": {
     "id": "434f8906-15ff-42a7-b025-470787e72070"
    }
   },
   "source": [
    "### We need only its features colums which are 4 in no and one tagerts columns\n",
    "**Note: our data set is in array format we need to convert into dataframs because ploting params must in the dataframe which also the fomate of pandas**"
   ]
  },
  {
   "cell_type": "code",
   "execution_count": 23,
   "metadata": {
    "collapsed": false,
    "nbpresent": {
     "id": "dee66183-f8c8-4c7a-a7d1-fd694cbcd9d3"
    }
   },
   "outputs": [
    {
     "data": {
      "text/html": [
       "<div>\n",
       "<table border=\"1\" class=\"dataframe\">\n",
       "  <thead>\n",
       "    <tr style=\"text-align: right;\">\n",
       "      <th></th>\n",
       "      <th>sepal length (cm)</th>\n",
       "      <th>sepal width (cm)</th>\n",
       "      <th>petal length (cm)</th>\n",
       "      <th>petal width (cm)</th>\n",
       "      <th>Species</th>\n",
       "    </tr>\n",
       "  </thead>\n",
       "  <tbody>\n",
       "    <tr>\n",
       "      <th>0</th>\n",
       "      <td>5.1</td>\n",
       "      <td>3.5</td>\n",
       "      <td>1.4</td>\n",
       "      <td>0.2</td>\n",
       "      <td>0.0</td>\n",
       "    </tr>\n",
       "    <tr>\n",
       "      <th>1</th>\n",
       "      <td>4.9</td>\n",
       "      <td>3.0</td>\n",
       "      <td>1.4</td>\n",
       "      <td>0.2</td>\n",
       "      <td>0.0</td>\n",
       "    </tr>\n",
       "    <tr>\n",
       "      <th>2</th>\n",
       "      <td>4.7</td>\n",
       "      <td>3.2</td>\n",
       "      <td>1.3</td>\n",
       "      <td>0.2</td>\n",
       "      <td>0.0</td>\n",
       "    </tr>\n",
       "    <tr>\n",
       "      <th>3</th>\n",
       "      <td>4.6</td>\n",
       "      <td>3.1</td>\n",
       "      <td>1.5</td>\n",
       "      <td>0.2</td>\n",
       "      <td>0.0</td>\n",
       "    </tr>\n",
       "    <tr>\n",
       "      <th>4</th>\n",
       "      <td>5.0</td>\n",
       "      <td>3.6</td>\n",
       "      <td>1.4</td>\n",
       "      <td>0.2</td>\n",
       "      <td>0.0</td>\n",
       "    </tr>\n",
       "  </tbody>\n",
       "</table>\n",
       "</div>"
      ],
      "text/plain": [
       "   sepal length (cm)  sepal width (cm)  petal length (cm)  petal width (cm)  \\\n",
       "0                5.1               3.5                1.4               0.2   \n",
       "1                4.9               3.0                1.4               0.2   \n",
       "2                4.7               3.2                1.3               0.2   \n",
       "3                4.6               3.1                1.5               0.2   \n",
       "4                5.0               3.6                1.4               0.2   \n",
       "\n",
       "   Species  \n",
       "0      0.0  \n",
       "1      0.0  \n",
       "2      0.0  \n",
       "3      0.0  \n",
       "4      0.0  "
      ]
     },
     "execution_count": 23,
     "metadata": {},
     "output_type": "execute_result"
    }
   ],
   "source": [
    "# converting data set in to data frame formate\n",
    "dataSet = pd.DataFrame(np.c_[iris.data, iris.target], columns=iris['feature_names'] + ['Species'])\n",
    "dataSet.head()"
   ]
  },
  {
   "cell_type": "code",
   "execution_count": 24,
   "metadata": {
    "collapsed": false,
    "nbpresent": {
     "id": "2b7419ee-5220-4025-9811-d92c0f193ba9"
    }
   },
   "outputs": [
    {
     "data": {
      "text/html": [
       "<div>\n",
       "<table border=\"1\" class=\"dataframe\">\n",
       "  <thead>\n",
       "    <tr style=\"text-align: right;\">\n",
       "      <th></th>\n",
       "      <th>sepal length (cm)</th>\n",
       "      <th>sepal width (cm)</th>\n",
       "      <th>petal length (cm)</th>\n",
       "      <th>petal width (cm)</th>\n",
       "      <th>Species</th>\n",
       "    </tr>\n",
       "  </thead>\n",
       "  <tbody>\n",
       "    <tr>\n",
       "      <th>146</th>\n",
       "      <td>6.3</td>\n",
       "      <td>2.5</td>\n",
       "      <td>5.0</td>\n",
       "      <td>1.9</td>\n",
       "      <td>2.0</td>\n",
       "    </tr>\n",
       "    <tr>\n",
       "      <th>147</th>\n",
       "      <td>6.5</td>\n",
       "      <td>3.0</td>\n",
       "      <td>5.2</td>\n",
       "      <td>2.0</td>\n",
       "      <td>2.0</td>\n",
       "    </tr>\n",
       "    <tr>\n",
       "      <th>148</th>\n",
       "      <td>6.2</td>\n",
       "      <td>3.4</td>\n",
       "      <td>5.4</td>\n",
       "      <td>2.3</td>\n",
       "      <td>2.0</td>\n",
       "    </tr>\n",
       "    <tr>\n",
       "      <th>149</th>\n",
       "      <td>5.9</td>\n",
       "      <td>3.0</td>\n",
       "      <td>5.1</td>\n",
       "      <td>1.8</td>\n",
       "      <td>2.0</td>\n",
       "    </tr>\n",
       "  </tbody>\n",
       "</table>\n",
       "</div>"
      ],
      "text/plain": [
       "     sepal length (cm)  sepal width (cm)  petal length (cm)  petal width (cm)  \\\n",
       "146                6.3               2.5                5.0               1.9   \n",
       "147                6.5               3.0                5.2               2.0   \n",
       "148                6.2               3.4                5.4               2.3   \n",
       "149                5.9               3.0                5.1               1.8   \n",
       "\n",
       "     Species  \n",
       "146      2.0  \n",
       "147      2.0  \n",
       "148      2.0  \n",
       "149      2.0  "
      ]
     },
     "execution_count": 24,
     "metadata": {},
     "output_type": "execute_result"
    }
   ],
   "source": [
    "dataSet.tail(4)"
   ]
  },
  {
   "cell_type": "markdown",
   "metadata": {
    "nbpresent": {
     "id": "4bff90f5-121e-4b98-8a7e-21d3d832eb90"
    }
   },
   "source": [
    "#### Assign features to features and targets to predictors"
   ]
  },
  {
   "cell_type": "code",
   "execution_count": 25,
   "metadata": {
    "collapsed": true,
    "nbpresent": {
     "id": "8399a7b8-14bc-4427-831f-1ae67514abaf"
    }
   },
   "outputs": [],
   "source": [
    "features = dataSet.ix[:,:-1]\n",
    "predictors = dataSet.ix[:,4]"
   ]
  },
  {
   "cell_type": "markdown",
   "metadata": {
    "nbpresent": {
     "id": "d59002fd-b330-4d13-967a-8ae399590199"
    }
   },
   "source": [
    "#### Ploting Features2 vs feature4"
   ]
  },
  {
   "cell_type": "code",
   "execution_count": 26,
   "metadata": {
    "collapsed": false,
    "nbpresent": {
     "id": "b5dcba5a-2071-4d89-b7e1-e688e86e250c"
    }
   },
   "outputs": [
    {
     "data": {
      "image/png": "[encoded data removed]",
      "text/plain": [
       "<matplotlib.figure.Figure at 0xc800f98>"
      ]
     },
     "metadata": {},
     "output_type": "display_data"
    }
   ],
   "source": [
    "g = sns.lmplot(x=features.columns[1], y=features.columns[3], hue=predictors.name, data=dataSet, legend=True, fit_reg=False)"
   ]
  },
  {
   "cell_type": "markdown",
   "metadata": {
    "nbpresent": {
     "id": "9ba06497-714b-4055-aa64-267c64c3d3ad"
    }
   },
   "source": [
    "#### An other way of ploting Scatter plot using PyPlot and SeaBorn"
   ]
  },
  {
   "cell_type": "code",
   "execution_count": 27,
   "metadata": {
    "collapsed": false,
    "nbpresent": {
     "id": "d02bed7b-1b44-4f24-a85b-f535de5ba385"
    }
   },
   "outputs": [
    {
     "data": {
      "text/plain": [
       "<matplotlib.axes._subplots.AxesSubplot at 0xd79a320>"
      ]
     },
     "execution_count": 27,
     "metadata": {},
     "output_type": "execute_result"
    },
    {
     "data": {
      "image/png": "[encoded data removed]",
      "text/plain": [
       "<matplotlib.figure.Figure at 0xd64ce10>"
      ]
     },
     "metadata": {},
     "output_type": "display_data"
    }
   ],
   "source": [
    "dataSet.plot(kind=\"scatter\", x=\"sepal length (cm)\", y=\"sepal width (cm)\")"
   ]
  },
  {
   "cell_type": "code",
   "execution_count": 28,
   "metadata": {
    "collapsed": false,
    "nbpresent": {
     "id": "3589dac7-1849-4fe9-9961-b7267cba836d"
    }
   },
   "outputs": [
    {
     "data": {
      "text/plain": [
       "<seaborn.axisgrid.FacetGrid at 0xda0bc50>"
      ]
     },
     "execution_count": 28,
     "metadata": {},
     "output_type": "execute_result"
    },
    {
     "data": {
      "image/png": "[encoded data removed]",
      "text/plain": [
       "<matplotlib.figure.Figure at 0xda0b780>"
      ]
     },
     "metadata": {},
     "output_type": "display_data"
    }
   ],
   "source": [
    "# One piece of information missing in the plots above is what species each plant is\n",
    "# We'll use seaborn's FacetGrid to color the scatterplot by species\n",
    "sns.FacetGrid(dataSet, hue=predictors.name, size=5) \\\n",
    "   .map(plt.scatter, \"sepal length (cm)\", \"sepal width (cm)\") \\\n",
    "   .add_legend()"
   ]
  },
  {
   "cell_type": "markdown",
   "metadata": {
    "nbpresent": {
     "id": "738749ca-cc1b-464f-9343-b565c9c9e520"
    }
   },
   "source": [
    "#### 3d scatter plot "
   ]
  },
  {
   "cell_type": "code",
   "execution_count": 29,
   "metadata": {
    "collapsed": false,
    "nbpresent": {
     "id": "ff9b96b5-6d25-454a-9a58-fe8e083c6bba"
    }
   },
   "outputs": [
    {
     "data": {
      "image/png": "[encoded data removed]",
      "text/plain": [
       "<matplotlib.figure.Figure at 0xc200630>"
      ]
     },
     "metadata": {},
     "output_type": "display_data"
    }
   ],
   "source": [
    "fig = plt.figure(1, figsize=(8, 6)) \n",
    "ax = Axes3D(fig, elev=-150, azim=150)\n",
    "ax.scatter(features.ix[:,1], features.ix[:,2], zs=0, c=predictors)\n",
    "\n",
    "ax.set_title(\"Three Dimintional distribution of the Features\")\n",
    "ax.set_xlabel(\"1st feature\")\n",
    "# ax.w_xaxis.set_ticklabels([])\n",
    "\n",
    "ax.set_ylabel(\"2nd feature\")\n",
    "# ax.w_yaxis.set_ticklabels([])\n",
    "\n",
    "\n",
    "ax.set_zlabel(\"z-plane\")\n",
    "# ax.w_zaxis.set_ticklabels([])\n",
    "\n",
    "plt.show()"
   ]
  },
  {
   "cell_type": "markdown",
   "metadata": {
    "nbpresent": {
     "id": "9b9a0580-13fb-4ff8-9e34-0eb95b01b78f"
    }
   },
   "source": [
    "#### Spliting the Data set\n",
    "In Machine Learing we must have the 3 seperate portion of the data set to trian validate and test our classifier. the mostly thumb rule for slpiting data in to 3 ratio like **100% = 60% train + 20% valid + 20% test** sets.\n",
    "this is done because we wont bised with out=r classifers like the traing examples that are used in the "
   ]
  },
  {
   "cell_type": "code",
   "execution_count": 30,
   "metadata": {
    "collapsed": false,
    "nbpresent": {
     "id": "35562979-eb5b-4b38-8457-87e2cf42dd68"
    }
   },
   "outputs": [],
   "source": [
    "xtrain, xtemp, ytrain, ytemp = train_test_split(features, predictors,\n",
    "                                                random_state=1, train_size=0.6)\n",
    "xvalid, xtest, yvalid, ytest = train_test_split(xtemp, ytemp,\n",
    "                                                random_state=1, train_size=0.5)"
   ]
  }
 ],
 "metadata": {
  "anaconda-cloud": {},
  "kernelspec": {
   "display_name": "Python [Anaconda2]",
   "language": "python",
   "name": "Python [Anaconda2]"
  },
  "language_info": {
   "codemirror_mode": {
    "name": "ipython",
    "version": 2
   },
   "file_extension": ".py",
   "mimetype": "text/x-python",
   "name": "python",
   "nbconvert_exporter": "python",
   "pygments_lexer": "ipython2",
   "version": "2.7.12"
  },
  "nbpresent": {
   "slides": {
    "02a98a3b-e39d-4edf-b398-00614df268f0": {
     "id": "02a98a3b-e39d-4edf-b398-00614df268f0",
     "prev": "db35d35d-9948-4d55-9e07-a7d22a82f177",
     "regions": {
      "a9165c7d-41ba-46a6-92bc-2cf10a0fb397": {
       "attrs": {
        "height": 0.8,
        "width": 0.8,
        "x": 0.1,
        "y": 0.1
       },
       "content": {
        "cell": "9ba06497-714b-4055-aa64-267c64c3d3ad",
        "part": "whole"
       },
       "id": "a9165c7d-41ba-46a6-92bc-2cf10a0fb397"
      }
     }
    },
    "0afe21f0-84ed-4f54-b1a2-c8969a32b990": {
     "id": "0afe21f0-84ed-4f54-b1a2-c8969a32b990",
     "prev": "49e5535b-8bb8-41b3-a182-d143346f5c84",
     "regions": {
      "24c71f6f-2e60-44d7-8d88-b7e47d63e681": {
       "attrs": {
        "height": 0.8,
        "width": 0.8,
        "x": 0.1,
        "y": 0.1
       },
       "content": {
        "cell": "d59002fd-b330-4d13-967a-8ae399590199",
        "part": "whole"
       },
       "id": "24c71f6f-2e60-44d7-8d88-b7e47d63e681"
      }
     }
    },
    "13064061-58e6-405c-b062-8744ec1a9a90": {
     "id": "13064061-58e6-405c-b062-8744ec1a9a90",
     "prev": "c92d4427-e420-4ce4-860d-4f23aee2ebac",
     "regions": {
      "b505594a-44a5-4691-bd26-0ef70c52b3e4": {
       "attrs": {
        "height": 0.8,
        "width": 0.8,
        "x": 0.1,
        "y": 0.1
       },
       "content": {
        "cell": "3589dac7-1849-4fe9-9961-b7267cba836d",
        "part": "whole"
       },
       "id": "b505594a-44a5-4691-bd26-0ef70c52b3e4"
      }
     }
    },
    "135ee334-e457-47da-b444-d6e91f4714a2": {
     "id": "135ee334-e457-47da-b444-d6e91f4714a2",
     "prev": "48da1750-2f5a-40f0-989f-5adb53e3c98f",
     "regions": {
      "efde9454-4f49-4a4e-bb34-385b80e22af9": {
       "attrs": {
        "height": 0.8,
        "width": 0.8,
        "x": 0.1,
        "y": 0.1
       },
       "content": {
        "cell": "90b3d3a0-a40a-405a-9a6c-f9394bcb28f0",
        "part": "whole"
       },
       "id": "efde9454-4f49-4a4e-bb34-385b80e22af9"
      }
     }
    },
    "13b3f80a-f647-41b4-849b-2d35803caa26": {
     "id": "13b3f80a-f647-41b4-849b-2d35803caa26",
     "prev": "13064061-58e6-405c-b062-8744ec1a9a90",
     "regions": {
      "820f6f16-781b-4374-8aa1-e2b74c33e78e": {
       "attrs": {
        "height": 0.8,
        "width": 0.8,
        "x": 0.1,
        "y": 0.1
       },
       "content": {
        "cell": "738749ca-cc1b-464f-9343-b565c9c9e520",
        "part": "whole"
       },
       "id": "820f6f16-781b-4374-8aa1-e2b74c33e78e"
      }
     }
    },
    "279bf270-b76b-4b37-88b8-ee0c9c25c79e": {
     "id": "279bf270-b76b-4b37-88b8-ee0c9c25c79e",
     "prev": "34407644-6f9b-4492-804a-33085e5d7c9f",
     "regions": {
      "d04c6980-5767-4a80-83dc-9492e75ace57": {
       "attrs": {
        "height": 0.8,
        "width": 0.8,
        "x": 0.1,
        "y": 0.1
       },
       "content": {
        "cell": "35562979-eb5b-4b38-8457-87e2cf42dd68",
        "part": "whole"
       },
       "id": "d04c6980-5767-4a80-83dc-9492e75ace57"
      }
     }
    },
    "34407644-6f9b-4492-804a-33085e5d7c9f": {
     "id": "34407644-6f9b-4492-804a-33085e5d7c9f",
     "prev": "752bccb1-6807-4b50-9e7c-81238db2efb1",
     "regions": {
      "e0db6d00-fb21-44e2-b742-815f1ecfac0f": {
       "attrs": {
        "height": 0.8,
        "width": 0.8,
        "x": 0.1,
        "y": 0.1
       },
       "content": {
        "cell": "9b9a0580-13fb-4ff8-9e34-0eb95b01b78f",
        "part": "whole"
       },
       "id": "e0db6d00-fb21-44e2-b742-815f1ecfac0f"
      }
     }
    },
    "42d4d028-58c2-44fb-9f9f-4f4ed39278b9": {
     "id": "42d4d028-58c2-44fb-9f9f-4f4ed39278b9",
     "prev": "897b6212-a169-4316-a06f-a32ebfd83fe1",
     "regions": {
      "8e3022f6-4d0f-40f0-98cc-6850561841d8": {
       "attrs": {
        "height": 0.8,
        "width": 0.8,
        "x": 0.1,
        "y": 0.1
       },
       "content": {
        "cell": "4bff90f5-121e-4b98-8a7e-21d3d832eb90",
        "part": "whole"
       },
       "id": "8e3022f6-4d0f-40f0-98cc-6850561841d8"
      }
     }
    },
    "48da1750-2f5a-40f0-989f-5adb53e3c98f": {
     "id": "48da1750-2f5a-40f0-989f-5adb53e3c98f",
     "prev": null,
     "regions": {
      "56c1b993-0208-436b-914f-452ff05cc658": {
       "attrs": {
        "height": 0.8,
        "width": 0.8,
        "x": 0.1,
        "y": 0.1
       },
       "content": {
        "cell": "c263c809-ecf3-42f3-8dd3-826dd348a7c0",
        "part": "whole"
       },
       "id": "56c1b993-0208-436b-914f-452ff05cc658"
      }
     }
    },
    "49e5535b-8bb8-41b3-a182-d143346f5c84": {
     "id": "49e5535b-8bb8-41b3-a182-d143346f5c84",
     "prev": "42d4d028-58c2-44fb-9f9f-4f4ed39278b9",
     "regions": {
      "1391a0f3-09c4-475f-aba9-dd440dae54ba": {
       "attrs": {
        "height": 0.8,
        "width": 0.8,
        "x": 0.1,
        "y": 0.1
       },
       "content": {
        "cell": "8399a7b8-14bc-4427-831f-1ae67514abaf",
        "part": "whole"
       },
       "id": "1391a0f3-09c4-475f-aba9-dd440dae54ba"
      }
     }
    },
    "50635065-d6e1-4e86-8bf2-59dcdd311fdd": {
     "id": "50635065-d6e1-4e86-8bf2-59dcdd311fdd",
     "prev": "9bd8b98a-5791-4940-bc28-84ca65b5ca9f",
     "regions": {
      "9e3bfab3-8f03-43d3-8d10-3c517fe5bada": {
       "attrs": {
        "height": 0.8,
        "width": 0.8,
        "x": 0.1,
        "y": 0.1
       },
       "content": {
        "cell": "dee66183-f8c8-4c7a-a7d1-fd694cbcd9d3",
        "part": "whole"
       },
       "id": "9e3bfab3-8f03-43d3-8d10-3c517fe5bada"
      }
     }
    },
    "752bccb1-6807-4b50-9e7c-81238db2efb1": {
     "id": "752bccb1-6807-4b50-9e7c-81238db2efb1",
     "prev": "13b3f80a-f647-41b4-849b-2d35803caa26",
     "regions": {
      "378af344-46fd-4391-a60f-0145fef6be56": {
       "attrs": {
        "height": 0.8,
        "width": 0.8,
        "x": 0.1,
        "y": 0.1
       },
       "content": {
        "cell": "ff9b96b5-6d25-454a-9a58-fe8e083c6bba",
        "part": "whole"
       },
       "id": "378af344-46fd-4391-a60f-0145fef6be56"
      }
     }
    },
    "897b6212-a169-4316-a06f-a32ebfd83fe1": {
     "id": "897b6212-a169-4316-a06f-a32ebfd83fe1",
     "prev": "50635065-d6e1-4e86-8bf2-59dcdd311fdd",
     "regions": {
      "761444cf-e28a-47b4-af25-fae9fead1500": {
       "attrs": {
        "height": 0.8,
        "width": 0.8,
        "x": 0.1,
        "y": 0.1
       },
       "content": {
        "cell": "2b7419ee-5220-4025-9811-d92c0f193ba9",
        "part": "whole"
       },
       "id": "761444cf-e28a-47b4-af25-fae9fead1500"
      }
     }
    },
    "9bd8b98a-5791-4940-bc28-84ca65b5ca9f": {
     "id": "9bd8b98a-5791-4940-bc28-84ca65b5ca9f",
     "prev": "d4bdfc2a-7ea8-4db2-ad60-51c0f4a68c21",
     "regions": {
      "d3aad9ee-5c91-484d-9eca-86d79e929fce": {
       "attrs": {
        "height": 0.8,
        "width": 0.8,
        "x": 0.1,
        "y": 0.1
       },
       "content": {
        "cell": "434f8906-15ff-42a7-b025-470787e72070",
        "part": "whole"
       },
       "id": "d3aad9ee-5c91-484d-9eca-86d79e929fce"
      }
     }
    },
    "c92d4427-e420-4ce4-860d-4f23aee2ebac": {
     "id": "c92d4427-e420-4ce4-860d-4f23aee2ebac",
     "prev": "02a98a3b-e39d-4edf-b398-00614df268f0",
     "regions": {
      "073b2d6b-b8ff-43f5-b085-0d0f1ea17716": {
       "attrs": {
        "height": 0.8,
        "width": 0.8,
        "x": 0.1,
        "y": 0.1
       },
       "content": {
        "cell": "d02bed7b-1b44-4f24-a85b-f535de5ba385",
        "part": "whole"
       },
       "id": "073b2d6b-b8ff-43f5-b085-0d0f1ea17716"
      }
     }
    },
    "d4bdfc2a-7ea8-4db2-ad60-51c0f4a68c21": {
     "id": "d4bdfc2a-7ea8-4db2-ad60-51c0f4a68c21",
     "prev": "fa39a649-dae5-421b-ae5b-be23eb8214b1",
     "regions": {
      "70b59c89-a736-4401-a0f3-475d47ad6d18": {
       "attrs": {
        "height": 0.8,
        "width": 0.8,
        "x": 0.1,
        "y": 0.1
       },
       "content": {
        "cell": "87335704-f15d-4b40-ab1e-79f603905317",
        "part": "whole"
       },
       "id": "70b59c89-a736-4401-a0f3-475d47ad6d18"
      }
     }
    },
    "db35d35d-9948-4d55-9e07-a7d22a82f177": {
     "id": "db35d35d-9948-4d55-9e07-a7d22a82f177",
     "prev": "0afe21f0-84ed-4f54-b1a2-c8969a32b990",
     "regions": {
      "b8e62437-ba7d-4f05-bc7a-daead3cb12ec": {
       "attrs": {
        "height": 0.8,
        "width": 0.8,
        "x": 0.1,
        "y": 0.1
       },
       "content": {
        "cell": "b5dcba5a-2071-4d89-b7e1-e688e86e250c",
        "part": "whole"
       },
       "id": "b8e62437-ba7d-4f05-bc7a-daead3cb12ec"
      }
     }
    },
    "e8aaa83f-4852-45bb-898f-f30237d57832": {
     "id": "e8aaa83f-4852-45bb-898f-f30237d57832",
     "prev": "135ee334-e457-47da-b444-d6e91f4714a2",
     "regions": {
      "1f90d01f-72e7-4683-83bb-d09513962228": {
       "attrs": {
        "height": 0.8,
        "width": 0.8,
        "x": 0.1,
        "y": 0.1
       },
       "content": {
        "cell": "5ba93df0-8e09-4e84-83f7-4644cc350cfe",
        "part": "whole"
       },
       "id": "1f90d01f-72e7-4683-83bb-d09513962228"
      }
     }
    },
    "fa39a649-dae5-421b-ae5b-be23eb8214b1": {
     "id": "fa39a649-dae5-421b-ae5b-be23eb8214b1",
     "prev": "e8aaa83f-4852-45bb-898f-f30237d57832",
     "regions": {
      "de509b67-b7e5-47eb-b397-bb8522bfb6a8": {
       "attrs": {
        "height": 0.8,
        "width": 0.8,
        "x": 0.1,
        "y": 0.1
       },
       "content": {
        "cell": "b57543b7-ba6d-416c-9ffe-eaa7e7775efb",
        "part": "whole"
       },
       "id": "de509b67-b7e5-47eb-b397-bb8522bfb6a8"
      }
     }
    }
   },
   "themes": {}
  }
 },
 "nbformat": 4,
 "nbformat_minor": 0
}
